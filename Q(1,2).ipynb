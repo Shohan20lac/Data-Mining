{
  "nbformat": 4,
  "nbformat_minor": 0,
  "metadata": {
    "colab": {
      "provenance": []
    },
    "kernelspec": {
      "name": "python3",
      "display_name": "Python 3"
    },
    "language_info": {
      "name": "python"
    }
  },
  "cells": [
    {
      "cell_type": "code",
      "execution_count": null,
      "metadata": {
        "id": "a6Lo2RzquliO"
      },
      "outputs": [],
      "source": [
        "import numpy as np\n",
        "import numpy.linalg as LA\n",
        "from sympy import *"
      ]
    },
    {
      "cell_type": "code",
      "source": [
        "A = np.array([\n",
        "    [-6,4,0,9],\n",
        "    [-3,0,1,6],\n",
        "    [-1,-2,1,0],\n",
        "    [-4,4,0,7]\n",
        "])\n",
        "\n",
        "I = np.identity(4)\n",
        "\n",
        "# 1. Find eigenvalues and eigenvectors\n",
        "eigenvalues, eigenvectors = LA.eig( A )\n",
        "\n",
        "print(eigenvalues)\n",
        "print(eigenvectors)\n",
        "\n",
        "# print(I)\n",
        "\n",
        "\n",
        "for eigenvalue in eigenvalues:\n",
        "  eigen_matrix = eigenvalue * I\n",
        "  eigen_matrix = A * eigen_matrix \n",
        "\n",
        "  print('before rref:\\n', eigen_matrix)\n",
        "\n",
        "  eigen_matrix_rref, pivots = Matrix(eigen_matrix).rref()\n",
        "  print('after rref:\\n', eigen_matrix)\n",
        "\n",
        "  print(pivots)\n",
        "  # once the pivot columns are determined, \n",
        "  # we can determine the general solution to A - Lambda_I = 0 for each lambda. But how?\n"
      ],
      "metadata": {
        "colab": {
          "base_uri": "https://localhost:8080/"
        },
        "id": "to5DZwcMutq3",
        "outputId": "ba11999c-097b-4369-dcd6-e494841748fd"
      },
      "execution_count": null,
      "outputs": [
        {
          "output_type": "stream",
          "name": "stdout",
          "text": [
            "[ 5.  1. -2. -2.]\n",
            "[[-0.63245553  0.26261287 -0.86819922  0.39602146]\n",
            " [-0.31622777 -0.13130643 -0.078836   -0.70170179]\n",
            " [ 0.31622777 -0.91914503 -0.34195707 -0.33579404]\n",
            " [-0.63245553  0.26261287 -0.3508281   0.487877  ]]\n",
            "before rref:\n",
            " [[-30.   0.   0.   0.]\n",
            " [ -0.   0.   0.   0.]\n",
            " [ -0.  -0.   5.   0.]\n",
            " [ -0.   0.   0.  35.]]\n",
            "after rref:\n",
            " [[-30.   0.   0.   0.]\n",
            " [ -0.   0.   0.   0.]\n",
            " [ -0.  -0.   5.   0.]\n",
            " [ -0.   0.   0.  35.]]\n",
            "(0, 2, 3)\n",
            "before rref:\n",
            " [[-6.  0.  0.  0.]\n",
            " [-0.  0.  0.  0.]\n",
            " [-0. -0.  1.  0.]\n",
            " [-0.  0.  0.  7.]]\n",
            "after rref:\n",
            " [[-6.  0.  0.  0.]\n",
            " [-0.  0.  0.  0.]\n",
            " [-0. -0.  1.  0.]\n",
            " [-0.  0.  0.  7.]]\n",
            "(0, 2, 3)\n",
            "before rref:\n",
            " [[ 12.  -0.  -0.  -0.]\n",
            " [  0.  -0.  -0.  -0.]\n",
            " [  0.   0.  -2.  -0.]\n",
            " [  0.  -0.  -0. -14.]]\n",
            "after rref:\n",
            " [[ 12.  -0.  -0.  -0.]\n",
            " [  0.  -0.  -0.  -0.]\n",
            " [  0.   0.  -2.  -0.]\n",
            " [  0.  -0.  -0. -14.]]\n",
            "(0, 2, 3)\n",
            "before rref:\n",
            " [[ 12.  -0.  -0.  -0.]\n",
            " [  0.  -0.  -0.  -0.]\n",
            " [  0.   0.  -2.  -0.]\n",
            " [  0.  -0.  -0. -14.]]\n",
            "after rref:\n",
            " [[ 12.  -0.  -0.  -0.]\n",
            " [  0.  -0.  -0.  -0.]\n",
            " [  0.   0.  -2.  -0.]\n",
            " [  0.  -0.  -0. -14.]]\n",
            "(0, 2, 3)\n"
          ]
        }
      ]
    },
    {
      "cell_type": "code",
      "source": [
        "# Q2\n",
        "\n",
        "A = [\n",
        "    [-6,4,0,9],\n",
        "    [-3,0,1,6],\n",
        "    [-1,-2,1,0],\n",
        "    [-4,4,0,7]\n",
        "]\n",
        "\n",
        "I = np.identity(4)\n",
        "# 1. Find eigenvalues and eigenvectors\n",
        "eigenvalues, eigenvectors = LA.eig( A )\n",
        "\n",
        "basis_vectors = []\n",
        "for eigenvalue in eigenvalues:\n",
        "  # 2. Set up augmented  characteristic equation \n",
        "  eigen_matrix = eigenvalue * I\n",
        "  eigen_matrix = A * eigen_matrix\n",
        "\n",
        "  # convert to row echelon form, find pivots\n",
        "  eigen_matrix_rref, pivots = Matrix(eigen_matrix).rref()\n",
        "\n",
        "  # from pivot columns, determine basis vector\n",
        "  basis_vector = solve ( eigen_matrix_rref, pivots )\n",
        "  basis_vectors.append( basis_vectors )\n",
        "\n",
        "print('ans: ', basis_vectors)"
      ],
      "metadata": {
        "colab": {
          "base_uri": "https://localhost:8080/"
        },
        "id": "uAUOBggjtg_E",
        "outputId": "903548d3-f82b-42ec-e766-a2c03e0e2f98"
      },
      "execution_count": null,
      "outputs": [
        {
          "output_type": "stream",
          "name": "stdout",
          "text": [
            "ans:  [[...], [...], [...], [...]]\n"
          ]
        }
      ]
    }
  ]
}